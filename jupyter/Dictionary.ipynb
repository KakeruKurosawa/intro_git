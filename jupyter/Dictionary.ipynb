{
 "cells": [
  {
   "cell_type": "code",
   "execution_count": 2,
   "id": "adb70b0a",
   "metadata": {},
   "outputs": [],
   "source": [
    "activites = {'Monday':'バスケ', 'Tuesday':'自転車', 'Wednesday':'軽音'}"
   ]
  },
  {
   "cell_type": "code",
   "execution_count": 4,
   "id": "2e7b5b54",
   "metadata": {},
   "outputs": [
    {
     "data": {
      "text/plain": [
       "'自転車'"
      ]
     },
     "execution_count": 4,
     "metadata": {},
     "output_type": "execute_result"
    }
   ],
   "source": [
    "activites['Tuesday']"
   ]
  },
  {
   "cell_type": "code",
   "execution_count": 7,
   "id": "9893f1ee",
   "metadata": {},
   "outputs": [
    {
     "data": {
      "text/plain": [
       "dict_keys(['Monday', 'Tuesday', 'Wednesday'])"
      ]
     },
     "execution_count": 7,
     "metadata": {},
     "output_type": "execute_result"
    }
   ],
   "source": [
    "activites.keys()"
   ]
  },
  {
   "cell_type": "code",
   "execution_count": 8,
   "id": "d708bcc1",
   "metadata": {},
   "outputs": [
    {
     "data": {
      "text/plain": [
       "dict_values(['バスケ', '自転車', '軽音'])"
      ]
     },
     "execution_count": 8,
     "metadata": {},
     "output_type": "execute_result"
    }
   ],
   "source": [
    "activites.values()"
   ]
  },
  {
   "cell_type": "code",
   "execution_count": null,
   "id": "17ebc05d",
   "metadata": {},
   "outputs": [],
   "source": []
  }
 ],
 "metadata": {
  "kernelspec": {
   "display_name": "Python 3 (ipykernel)",
   "language": "python",
   "name": "python3"
  },
  "language_info": {
   "codemirror_mode": {
    "name": "ipython",
    "version": 3
   },
   "file_extension": ".py",
   "mimetype": "text/x-python",
   "name": "python",
   "nbconvert_exporter": "python",
   "pygments_lexer": "ipython3",
   "version": "3.9.7"
  }
 },
 "nbformat": 4,
 "nbformat_minor": 5
}
